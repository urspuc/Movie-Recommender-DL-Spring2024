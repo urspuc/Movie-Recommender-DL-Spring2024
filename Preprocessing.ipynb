{
 "cells": [
  {
   "cell_type": "code",
   "execution_count": null,
   "id": "dfe8e9b7-22ba-4513-96e8-dada5c24d1a4",
   "metadata": {},
   "outputs": [],
   "source": [
    "!pip install transformers"
   ]
  },
  {
   "cell_type": "code",
   "execution_count": null,
   "id": "f355d304-a9e1-4f4d-a64d-b2206746e941",
   "metadata": {},
   "outputs": [],
   "source": [
    "import pandas as pd\n",
    "from sklearn.preprocessing import MultiLabelBinarizer, StandardScaler\n",
    "from sklearn.model_selection import train_test_split\n",
    "from sklearn.impute import SimpleImputer"
   ]
  },
  {
   "cell_type": "code",
   "execution_count": null,
   "id": "86a53b58-3c98-4ef2-80fe-62584f16f0d1",
   "metadata": {},
   "outputs": [],
   "source": [
    "# Load the datasets\n",
    "processed_data = pd.read_csv('final_processed_data copy.csv')\n",
    "# do the feature engineering\n",
    "# Convert 'genres' to list of genres\n",
    "processed_data['genres'] = processed_data['genres'].str.split(',')\n",
    "# Convert 'directors' to list of directors\n",
    "processed_data['directors'] = processed_data['directors'].str.split(',')\n",
    "# drop the imdb_id and titleId columns of processed_data\n",
    "\n",
    "processed_data.tconst = pd.Categorical(processed_data.tconst)\n",
    "processed_data['tconst'] = processed_data.tconst.cat.codes\n",
    "\n",
    "processed_data.titleType = pd.Categorical(processed_data.titleType)\n",
    "processed_data['titleType'] = processed_data.titleType.cat.codes\n",
    "\n",
    "processed_data.isAdult = pd.Categorical(processed_data.isAdult)\n",
    "processed_data['isAdult'] = processed_data.isAdult.cat.codes"
   ]
  },
  {
   "cell_type": "code",
   "execution_count": null,
   "id": "e7470d25-7c18-4b09-b796-048638f50665",
   "metadata": {},
   "outputs": [],
   "source": [
    "def create_mapping(series):\n",
    "    unique_items = set(item for sublist in series for item in sublist)\n",
    "    return {item: idx + 1 for idx, item in enumerate(unique_items)}  # start indices from 1\n",
    "\n",
    "# Create mappings for directors and genres\n",
    "director_mapping = create_mapping(processed_data['directors'])\n",
    "genre_mapping = create_mapping(processed_data['genres'])"
   ]
  },
  {
   "cell_type": "code",
   "execution_count": null,
   "id": "d35cc2d2-f6e6-492f-bb3a-a678bbadd522",
   "metadata": {},
   "outputs": [],
   "source": [
    "processed_data.head(5)"
   ]
  },
  {
   "cell_type": "code",
   "execution_count": null,
   "id": "5c9d2c54-df84-4f9b-93ff-721bf7ca5864",
   "metadata": {},
   "outputs": [],
   "source": [
    "def map_to_indices(items, mapping):\n",
    "    return [mapping[item] for item in items]\n",
    "\n",
    "# Apply mappings to the DataFrame\n",
    "processed_data['director_ids'] = processed_data['directors'].apply(map_to_indices, args=(director_mapping,))\n",
    "processed_data['genre_ids'] = processed_data['genres'].apply(map_to_indices, args=(genre_mapping,))"
   ]
  },
  {
   "cell_type": "code",
   "execution_count": null,
   "id": "5ae03267-776b-45e6-b45d-ef1b56a5396e",
   "metadata": {},
   "outputs": [],
   "source": [
    "processed_data = processed_data.drop(columns=['imdb_id', 'titleId', 'genres', 'directors'])"
   ]
  },
  {
   "cell_type": "code",
   "execution_count": null,
   "id": "6adbd13f-c500-43ac-ad07-07762599973d",
   "metadata": {},
   "outputs": [],
   "source": []
  },
  {
   "cell_type": "code",
   "execution_count": null,
   "id": "5a541483-31a6-4670-a29a-a0d0a4a9037c",
   "metadata": {},
   "outputs": [],
   "source": []
  },
  {
   "cell_type": "code",
   "execution_count": null,
   "id": "d7a25dd2-2118-4541-9059-a98f394ff2c5",
   "metadata": {},
   "outputs": [],
   "source": []
  },
  {
   "cell_type": "code",
   "execution_count": null,
   "id": "9948e742",
   "metadata": {},
   "outputs": [],
   "source": [
    "import pandas as pd\n",
    "from sklearn.preprocessing import MultiLabelBinarizer, StandardScaler\n",
    "from sklearn.model_selection import train_test_split\n",
    "from sklearn.impute import SimpleImputer"
   ]
  },
  {
   "cell_type": "code",
   "execution_count": null,
   "id": "9166b463",
   "metadata": {},
   "outputs": [],
   "source": [
    "# Load the datasets\n",
    "processed_data = pd.read_csv('final_processed_data copy.csv')\n",
    "# do the feature engineering\n",
    "# Convert 'genres' to list of genres\n",
    "processed_data['genres'] = processed_data['genres'].str.split(',')\n",
    "# Convert 'directors' to list of directors\n",
    "processed_data['directors'] = processed_data['directors'].str.split(',')\n",
    "# drop the imdb_id and titleId columns of processed_data\n",
    "\n",
    "processed_data.tconst = pd.Categorical(processed_data.tconst)\n",
    "processed_data['tconst'] = processed_data.tconst.cat.codes\n",
    "\n",
    "processed_data.titleType = pd.Categorical(processed_data.titleType)\n",
    "processed_data['titleType'] = processed_data.titleType.cat.codes\n",
    "\n",
    "processed_data.isAdult = pd.Categorical(processed_data.isAdult)\n",
    "processed_data['isAdult'] = processed_data.isAdult.cat.codes"
   ]
  },
  {
   "cell_type": "code",
   "execution_count": null,
   "id": "1feda267",
   "metadata": {},
   "outputs": [],
   "source": [
    "def create_mapping(series):\n",
    "    unique_items = set(item for sublist in series for item in sublist)\n",
    "    return {item: idx + 1 for idx, item in enumerate(unique_items)}  # start indices from 1\n",
    "\n",
    "# Create mappings for directors and genres\n",
    "director_mapping = create_mapping(processed_data['directors'])\n",
    "genre_mapping = create_mapping(processed_data['genres'])"
   ]
  },
  {
   "cell_type": "code",
   "execution_count": null,
   "id": "5fe7790c-d0de-4bb2-a0cc-daff5eb650ee",
   "metadata": {},
   "outputs": [],
   "source": [
    "missing_values = processed_data.isnull().sum()\n",
    "processed_data.dropna(subset=['overview'], inplace=True)\n",
    "print(missing_values)\n",
    "print(processed_data.size)"
   ]
  },
  {
   "cell_type": "code",
   "execution_count": null,
   "id": "faab0ebf-51c7-48a5-9485-67ae111c3c75",
   "metadata": {},
   "outputs": [],
   "source": [
    "missing_values = processed_data.isnull().sum()\n",
    "print(missing_values)\n",
    "print(processed_data.size)"
   ]
  },
  {
   "cell_type": "code",
   "execution_count": null,
   "id": "bd0f1461",
   "metadata": {},
   "outputs": [],
   "source": []
  },
  {
   "cell_type": "code",
   "execution_count": 267,
   "id": "e9a31e76-fb80-4eac-913a-8814bb6c2255",
   "metadata": {},
   "outputs": [
    {
     "name": "stderr",
     "output_type": "stream",
     "text": [
      "/home/ubuntu/.local/lib/python3.10/site-packages/huggingface_hub/file_download.py:1132: FutureWarning: `resume_download` is deprecated and will be removed in version 1.0.0. Downloads always resume when possible. If you want to force a new download, use `force_download=True`.\n",
      "  warnings.warn(\n"
     ]
    },
    {
     "data": {
      "text/plain": [
       "30522"
      ]
     },
     "execution_count": 267,
     "metadata": {},
     "output_type": "execute_result"
    }
   ],
   "source": [
    "from transformers import BertTokenizer\n",
    "from tqdm import tqdm\n",
    "tqdm.pandas()\n",
    "tokenizer = BertTokenizer.from_pretrained('bert-base-uncased')\n",
    "tokenizer.vocab_size"
   ]
  },
  {
   "cell_type": "code",
   "execution_count": null,
   "id": "ef8597d8-ed2e-40ba-9ecc-6ae0b50e548d",
   "metadata": {},
   "outputs": [],
   "source": [
    "from transformers import BertTokenizer\n",
    "from tqdm import tqdm\n",
    "tqdm.pandas()\n",
    "tokenizer = BertTokenizer.from_pretrained('bert-base-uncased')\n",
    "processed_data['overview'] = processed_data['overview'].progress_apply(lambda x: tokenizer.encode(x, max_length=512, truncation=True, add_special_tokens=True))\n",
    "processed_data['title'] = processed_data['title'].progress_apply(lambda x: tokenizer.encode(x, max_length=512, truncation=True, add_special_tokens=True))"
   ]
  },
  {
   "cell_type": "code",
   "execution_count": null,
   "id": "35f79d6c-4603-4ee5-9810-ff423e378a31",
   "metadata": {},
   "outputs": [],
   "source": [
    "processed_data.to"
   ]
  },
  {
   "cell_type": "code",
   "execution_count": null,
   "id": "7bff57c8",
   "metadata": {},
   "outputs": [],
   "source": [
    "def map_to_indices(items, mapping):\n",
    "    return [mapping[item] for item in items]\n",
    "\n",
    "# Apply mappings to the DataFrame\n",
    "processed_data['director_ids'] = processed_data['directors'].apply(map_to_indices, args=(director_mapping,))\n",
    "processed_data['genre_ids'] = processed_data['genres'].apply(map_to_indices, args=(genre_mapping,))"
   ]
  },
  {
   "cell_type": "code",
   "execution_count": null,
   "id": "3ac85b7b",
   "metadata": {},
   "outputs": [],
   "source": [
    "processed_data = processed_data.drop(columns=['genres', 'directors'])"
   ]
  },
  {
   "cell_type": "code",
   "execution_count": null,
   "id": "d921af53-46e3-457e-bff1-0950613d124f",
   "metadata": {},
   "outputs": [],
   "source": [
    "processed_data = processed_data.drop(columns=['imdb_id', 'titleId'])\n",
    "processed_data.head(5)"
   ]
  },
  {
   "cell_type": "code",
   "execution_count": null,
   "id": "f9d7a0fa-67ac-475d-8069-5fcc5fad48a3",
   "metadata": {},
   "outputs": [],
   "source": [
    "processed_data.to_csv('ready_to_model')"
   ]
  },
  {
   "cell_type": "code",
   "execution_count": null,
   "id": "d824f395-e293-4f96-8876-222379fd8a84",
   "metadata": {},
   "outputs": [],
   "source": []
  },
  {
   "cell_type": "code",
   "execution_count": null,
   "id": "1aea4145-f7f7-47aa-aaff-a770ed9499f6",
   "metadata": {},
   "outputs": [],
   "source": []
  },
  {
   "cell_type": "code",
   "execution_count": null,
   "id": "b8e2c9b8-344e-41a6-973d-3a2f84fcf496",
   "metadata": {},
   "outputs": [],
   "source": []
  },
  {
   "cell_type": "code",
   "execution_count": null,
   "id": "d201b5e7-63a4-4609-a2db-8f2a1e96dd85",
   "metadata": {},
   "outputs": [],
   "source": []
  },
  {
   "cell_type": "code",
   "execution_count": null,
   "id": "4b44c952-406d-4eef-8e59-ba46cbd736e7",
   "metadata": {},
   "outputs": [],
   "source": []
  },
  {
   "cell_type": "code",
   "execution_count": null,
   "id": "59eacc22-c309-4299-9fb7-76b4aecbbd6f",
   "metadata": {},
   "outputs": [],
   "source": []
  },
  {
   "cell_type": "code",
   "execution_count": null,
   "id": "54233038-3bcb-4fdd-a259-e114b276feb2",
   "metadata": {},
   "outputs": [],
   "source": []
  },
  {
   "cell_type": "code",
   "execution_count": null,
   "id": "8b4c5296",
   "metadata": {},
   "outputs": [],
   "source": []
  },
  {
   "cell_type": "code",
   "execution_count": null,
   "id": "60a0d0c3-ee66-4c50-aee9-f88ed9c962b4",
   "metadata": {},
   "outputs": [],
   "source": []
  },
  {
   "cell_type": "code",
   "execution_count": null,
   "id": "c1ad1590",
   "metadata": {},
   "outputs": [],
   "source": []
  },
  {
   "cell_type": "code",
   "execution_count": null,
   "id": "15dd794e",
   "metadata": {},
   "outputs": [],
   "source": []
  }
 ],
 "metadata": {
  "kernelspec": {
   "display_name": "Python 3 (ipykernel)",
   "language": "python",
   "name": "python3"
  },
  "language_info": {
   "codemirror_mode": {
    "name": "ipython",
    "version": 3
   },
   "file_extension": ".py",
   "mimetype": "text/x-python",
   "name": "python",
   "nbconvert_exporter": "python",
   "pygments_lexer": "ipython3",
   "version": "3.10.12"
  }
 },
 "nbformat": 4,
 "nbformat_minor": 5
}
