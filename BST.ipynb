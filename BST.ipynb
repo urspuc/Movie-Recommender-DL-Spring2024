{
 "cells": [
  {
   "cell_type": "code",
   "execution_count": 1,
   "id": "60d568b9-c6e2-4a00-ac58-f00cea3bf3ad",
   "metadata": {},
   "outputs": [
    {
     "name": "stdout",
     "output_type": "stream",
     "text": [
      "Defaulting to user installation because normal site-packages is not writeable\n",
      "Requirement already satisfied: transformers in ./.local/lib/python3.10/site-packages (4.40.1)\n",
      "Requirement already satisfied: filelock in /usr/lib/python3/dist-packages (from transformers) (3.6.0)\n",
      "Requirement already satisfied: huggingface-hub<1.0,>=0.19.3 in ./.local/lib/python3.10/site-packages (from transformers) (0.23.0)\n",
      "Requirement already satisfied: numpy>=1.17 in ./.local/lib/python3.10/site-packages (from transformers) (1.25.2)\n",
      "Requirement already satisfied: packaging>=20.0 in /usr/lib/python3/dist-packages (from transformers) (21.3)\n",
      "Requirement already satisfied: pyyaml>=5.1 in /usr/lib/python3/dist-packages (from transformers) (5.4.1)\n",
      "Requirement already satisfied: regex!=2019.12.17 in ./.local/lib/python3.10/site-packages (from transformers) (2024.4.28)\n",
      "Requirement already satisfied: requests in ./.local/lib/python3.10/site-packages (from transformers) (2.31.0)\n",
      "Requirement already satisfied: tokenizers<0.20,>=0.19 in ./.local/lib/python3.10/site-packages (from transformers) (0.19.1)\n",
      "Requirement already satisfied: safetensors>=0.4.1 in ./.local/lib/python3.10/site-packages (from transformers) (0.4.3)\n",
      "Requirement already satisfied: tqdm>=4.27 in ./.local/lib/python3.10/site-packages (from transformers) (4.66.1)\n",
      "Requirement already satisfied: fsspec>=2023.5.0 in ./.local/lib/python3.10/site-packages (from huggingface-hub<1.0,>=0.19.3->transformers) (2024.3.1)\n",
      "Requirement already satisfied: typing-extensions>=3.7.4.3 in ./.local/lib/python3.10/site-packages (from huggingface-hub<1.0,>=0.19.3->transformers) (4.8.0)\n",
      "Requirement already satisfied: charset-normalizer<4,>=2 in ./.local/lib/python3.10/site-packages (from requests->transformers) (3.3.2)\n",
      "Requirement already satisfied: idna<4,>=2.5 in /usr/lib/python3/dist-packages (from requests->transformers) (3.3)\n",
      "Requirement already satisfied: urllib3<3,>=1.21.1 in /usr/lib/python3/dist-packages (from requests->transformers) (1.26.5)\n",
      "Requirement already satisfied: certifi>=2017.4.17 in /usr/lib/python3/dist-packages (from requests->transformers) (2020.6.20)\n",
      "\u001b[33mDEPRECATION: flatbuffers 1.12.1-git20200711.33e2d80-dfsg1-0.6 has a non-standard version number. pip 24.0 will enforce this behaviour change. A possible replacement is to upgrade to a newer version of flatbuffers or contact the author to suggest that they release a version with a conforming version number. Discussion can be found at https://github.com/pypa/pip/issues/12063\u001b[0m\u001b[33m\n",
      "\u001b[0m\n",
      "\u001b[1m[\u001b[0m\u001b[34;49mnotice\u001b[0m\u001b[1;39;49m]\u001b[0m\u001b[39;49m A new release of pip is available: \u001b[0m\u001b[31;49m23.3.1\u001b[0m\u001b[39;49m -> \u001b[0m\u001b[32;49m24.0\u001b[0m\n",
      "\u001b[1m[\u001b[0m\u001b[34;49mnotice\u001b[0m\u001b[1;39;49m]\u001b[0m\u001b[39;49m To update, run: \u001b[0m\u001b[32;49mpython3 -m pip install --upgrade pip\u001b[0m\n"
     ]
    }
   ],
   "source": [
    "!pip install transformers"
   ]
  },
  {
   "cell_type": "code",
   "execution_count": 2,
   "id": "b2b6ad4d-15f8-4c2e-af7c-8dc2cd176e3b",
   "metadata": {},
   "outputs": [
    {
     "name": "stderr",
     "output_type": "stream",
     "text": [
      "/usr/lib/python3/dist-packages/scipy/__init__.py:146: UserWarning: A NumPy version >=1.17.3 and <1.25.0 is required for this version of SciPy (detected version 1.25.2\n",
      "  warnings.warn(f\"A NumPy version >={np_minversion} and <{np_maxversion}\"\n"
     ]
    }
   ],
   "source": [
    "import pandas as pd\n",
    "from sklearn.preprocessing import MultiLabelBinarizer, StandardScaler\n",
    "from sklearn.model_selection import train_test_split\n",
    "from sklearn.impute import SimpleImputer"
   ]
  },
  {
   "cell_type": "code",
   "execution_count": null,
   "id": "8e19b970-aaa0-452a-b366-4f362c7fc299",
   "metadata": {},
   "outputs": [],
   "source": [
    "import torch\n",
    "import torch.utils.data as data\n",
    "from torchvision import transforms\n",
    "import ast\n",
    "from torch.nn.utils.rnn import pad_sequence\n",
    "\n",
    "class MovieDataset(data.Dataset):\n",
    "    def __init__(self, file_path):\n",
    "        self.data = pd.read_csv(file_path)[:1000]\n",
    "        \n",
    "\n",
    "        self.labels = self.data['averageRating']\n",
    "\n",
    "    def __len__(self):\n",
    "        return len(self.data)\n",
    "\n",
    "    def transfer_to_tensor(self, input):\n",
    "        a = [torch.tensor(eval(item)) for item in input]\n",
    "        a = pad_sequence(a)\n",
    "        a = a.T\n",
    "        return a\n",
    "\n",
    "    def __getitem__(self, index):\n",
    "        item = self.data.iloc[index]\n",
    "        overviews = self.transfer_to_tensor(self.data['overview'])\n",
    "        director_ids = self.transfer_to_tensor(self.data['director_ids'])\n",
    "        genre_ids = self.transfer_to_tensor(self.data['genre_ids'])\n",
    "        title = self.transfer_to_tensor(self.data['title'])\n",
    "        \n",
    "        labels = torch.tensor(item['averageRating'], dtype=torch.long)\n",
    "        is_adult = torch.tensor(item['isAdult'], dtype=torch.long)  \n",
    "        start_year = torch.tensor(item['startYear'], dtype=torch.long)  \n",
    "        runtime_minutes = torch.tensor(item['runtimeMinutes'], dtype=torch.long)\n",
    "        num_votes = torch.tensor(item['numVotes'], dtype=torch.long)\n",
    "        title_type = torch.tensor(item['titleType'], dtype=torch.long)\n",
    "        \n",
    "\n",
    "        return overviews, director_ids, genre_ids, title, labels, is_adult, start_year, runtime_minutes, num_votes, title_type\n",
    "\n"
   ]
  },
  {
   "cell_type": "code",
   "execution_count": 3,
   "id": "9d9a71f8-f761-4fc0-8869-2418277d271f",
   "metadata": {},
   "outputs": [],
   "source": [
    "import math\n",
    "import torch\n",
    "import torch.nn as nn\n",
    "class PositionalEncoding(nn.Module):\n",
    "\n",
    "    def __init__(self, d_model: int, dropout: float = 0.1, max_len: int = 5000):\n",
    "        super().__init__()\n",
    "        self.dropout = nn.Dropout(p=dropout)\n",
    "\n",
    "        position = torch.arange(max_len).unsqueeze(1)\n",
    "        div_term = torch.exp(torch.arange(0, d_model, 2) * (-math.log(10000.0) / d_model))\n",
    "        pe = torch.zeros(max_len, 1, d_model)\n",
    "        pe[:, 0, 0::2] = torch.sin(position * div_term)\n",
    "        pe[:, 0, 1::2] = torch.cos(position * div_term)\n",
    "        self.register_buffer('pe', pe)\n",
    "\n",
    "    def forward(self, x):\n",
    "        \"\"\"\n",
    "        Arguments:\n",
    "            x: Tensor, shape ``[seq_len, batch_size, embedding_dim]``\n",
    "        \"\"\"\n",
    "        x = x + self.pe[:x.size(0)]\n",
    "        return self.dropout(x)"
   ]
  },
  {
   "cell_type": "code",
   "execution_count": 4,
   "id": "ae4aa622-75fa-4660-a2a4-f107b7025587",
   "metadata": {},
   "outputs": [
    {
     "data": {
      "text/html": [
       "<div>\n",
       "<style scoped>\n",
       "    .dataframe tbody tr th:only-of-type {\n",
       "        vertical-align: middle;\n",
       "    }\n",
       "\n",
       "    .dataframe tbody tr th {\n",
       "        vertical-align: top;\n",
       "    }\n",
       "\n",
       "    .dataframe thead th {\n",
       "        text-align: right;\n",
       "    }\n",
       "</style>\n",
       "<table border=\"1\" class=\"dataframe\">\n",
       "  <thead>\n",
       "    <tr style=\"text-align: right;\">\n",
       "      <th></th>\n",
       "      <th>Unnamed: 0</th>\n",
       "      <th>Unnamed: 0.1</th>\n",
       "      <th>tconst</th>\n",
       "      <th>titleType</th>\n",
       "      <th>isAdult</th>\n",
       "      <th>startYear</th>\n",
       "      <th>runtimeMinutes</th>\n",
       "      <th>title</th>\n",
       "      <th>averageRating</th>\n",
       "      <th>numVotes</th>\n",
       "      <th>overview</th>\n",
       "      <th>director_ids</th>\n",
       "      <th>genre_ids</th>\n",
       "    </tr>\n",
       "  </thead>\n",
       "  <tbody>\n",
       "    <tr>\n",
       "      <th>0</th>\n",
       "      <td>0</td>\n",
       "      <td>0</td>\n",
       "      <td>0</td>\n",
       "      <td>1</td>\n",
       "      <td>0</td>\n",
       "      <td>1894.0</td>\n",
       "      <td>1.0</td>\n",
       "      <td>[101, 11425, 26243, 2050, 102]</td>\n",
       "      <td>5.7</td>\n",
       "      <td>2052.0</td>\n",
       "      <td>[101, 1996, 2034, 2450, 2000, 3711, 1999, 2392...</td>\n",
       "      <td>[13780]</td>\n",
       "      <td>[17, 11]</td>\n",
       "    </tr>\n",
       "    <tr>\n",
       "      <th>1</th>\n",
       "      <td>1</td>\n",
       "      <td>3</td>\n",
       "      <td>0</td>\n",
       "      <td>1</td>\n",
       "      <td>0</td>\n",
       "      <td>1894.0</td>\n",
       "      <td>1.0</td>\n",
       "      <td>[101, 11425, 26243, 2050, 1011, 8487, 7677, 21...</td>\n",
       "      <td>5.7</td>\n",
       "      <td>2052.0</td>\n",
       "      <td>[101, 1996, 2034, 2450, 2000, 3711, 1999, 2392...</td>\n",
       "      <td>[13780]</td>\n",
       "      <td>[17, 11]</td>\n",
       "    </tr>\n",
       "    <tr>\n",
       "      <th>2</th>\n",
       "      <td>2</td>\n",
       "      <td>4</td>\n",
       "      <td>0</td>\n",
       "      <td>1</td>\n",
       "      <td>0</td>\n",
       "      <td>1894.0</td>\n",
       "      <td>1.0</td>\n",
       "      <td>[101, 1164, 14608, 29732, 29728, 29723, 16177,...</td>\n",
       "      <td>5.7</td>\n",
       "      <td>2052.0</td>\n",
       "      <td>[101, 1996, 2034, 2450, 2000, 3711, 1999, 2392...</td>\n",
       "      <td>[13780]</td>\n",
       "      <td>[17, 11]</td>\n",
       "    </tr>\n",
       "    <tr>\n",
       "      <th>3</th>\n",
       "      <td>3</td>\n",
       "      <td>5</td>\n",
       "      <td>0</td>\n",
       "      <td>1</td>\n",
       "      <td>0</td>\n",
       "      <td>1894.0</td>\n",
       "      <td>1.0</td>\n",
       "      <td>[101, 1189, 10260, 16856, 29745, 15290, 18947,...</td>\n",
       "      <td>5.7</td>\n",
       "      <td>2052.0</td>\n",
       "      <td>[101, 1996, 2034, 2450, 2000, 3711, 1999, 2392...</td>\n",
       "      <td>[13780]</td>\n",
       "      <td>[17, 11]</td>\n",
       "    </tr>\n",
       "    <tr>\n",
       "      <th>4</th>\n",
       "      <td>4</td>\n",
       "      <td>6</td>\n",
       "      <td>0</td>\n",
       "      <td>1</td>\n",
       "      <td>0</td>\n",
       "      <td>1894.0</td>\n",
       "      <td>1.0</td>\n",
       "      <td>[101, 1189, 10260, 16856, 29745, 15290, 18947,...</td>\n",
       "      <td>5.7</td>\n",
       "      <td>2052.0</td>\n",
       "      <td>[101, 1996, 2034, 2450, 2000, 3711, 1999, 2392...</td>\n",
       "      <td>[13780]</td>\n",
       "      <td>[17, 11]</td>\n",
       "    </tr>\n",
       "  </tbody>\n",
       "</table>\n",
       "</div>"
      ],
      "text/plain": [
       "   Unnamed: 0  Unnamed: 0.1  tconst  titleType  isAdult  startYear  \\\n",
       "0           0             0       0          1        0     1894.0   \n",
       "1           1             3       0          1        0     1894.0   \n",
       "2           2             4       0          1        0     1894.0   \n",
       "3           3             5       0          1        0     1894.0   \n",
       "4           4             6       0          1        0     1894.0   \n",
       "\n",
       "   runtimeMinutes                                              title  \\\n",
       "0             1.0                     [101, 11425, 26243, 2050, 102]   \n",
       "1             1.0  [101, 11425, 26243, 2050, 1011, 8487, 7677, 21...   \n",
       "2             1.0  [101, 1164, 14608, 29732, 29728, 29723, 16177,...   \n",
       "3             1.0  [101, 1189, 10260, 16856, 29745, 15290, 18947,...   \n",
       "4             1.0  [101, 1189, 10260, 16856, 29745, 15290, 18947,...   \n",
       "\n",
       "   averageRating  numVotes                                           overview  \\\n",
       "0            5.7    2052.0  [101, 1996, 2034, 2450, 2000, 3711, 1999, 2392...   \n",
       "1            5.7    2052.0  [101, 1996, 2034, 2450, 2000, 3711, 1999, 2392...   \n",
       "2            5.7    2052.0  [101, 1996, 2034, 2450, 2000, 3711, 1999, 2392...   \n",
       "3            5.7    2052.0  [101, 1996, 2034, 2450, 2000, 3711, 1999, 2392...   \n",
       "4            5.7    2052.0  [101, 1996, 2034, 2450, 2000, 3711, 1999, 2392...   \n",
       "\n",
       "  director_ids genre_ids  \n",
       "0      [13780]  [17, 11]  \n",
       "1      [13780]  [17, 11]  \n",
       "2      [13780]  [17, 11]  \n",
       "3      [13780]  [17, 11]  \n",
       "4      [13780]  [17, 11]  "
      ]
     },
     "execution_count": 4,
     "metadata": {},
     "output_type": "execute_result"
    }
   ],
   "source": [
    "processed_data = pd.read_csv('ready_to_model.csv')\n",
    "processed_data.head(5)"
   ]
  },
  {
   "cell_type": "code",
   "execution_count": 33,
   "id": "e0f99fb9-2343-4871-b45c-bfdc50b75b29",
   "metadata": {},
   "outputs": [],
   "source": [
    "class BehaviorSequenceTransformer(nn.Module):\n",
    "    def __init__(self, embedding_dim, num_heads, vocab_size, dropout=0.1):\n",
    "        super(BehaviorSequenceTransformer, self).__init__()\n",
    "        self.embedding_dim = embedding_dim\n",
    "        self.num_heads = num_heads\n",
    "        self.dropout = dropout\n",
    "        self.vocab_size = vocab_size\n",
    "        # n_director = processed_data.director_ids.max()[0]\n",
    "        # n_genre = processed_data.genre_ids.max()[0]\n",
    "        # print(n_director)\n",
    "        # self.embedding_titleType = nn.Embedding(int(processed_data.titleType.max()) + 1, int(math.sqrt(processed_data.titleType.max())) + 1)\n",
    "        # self.embedding_startYear = nn.Embedding(int(len(processed_data.startYear.unique())) + 1, int(math.sqrt(len(processed_data.startYear.unique()))) + 1)\n",
    "        # self.embedding_isAdult = nn.Embedding(2, 2)\n",
    "        \n",
    "        # self.embedding_title = nn.Embedding(vocab_size + 1, embedding_dim)\n",
    "        # self.embedding_overview = nn.Embedding(vocab_size + 1, embedding_dim)\n",
    "        \n",
    "        # n_director = processed_data.director_ids.max()[0]\n",
    "        # n_genre = processed_data.genre_ids.max()[0]\n",
    "        # self.embedding_director = nn.Embedding(int(n_director) + 1, int(math.sqrt(n_director)) + 1)\n",
    "        # self.embedding_genre = nn.Embedding(int(n_genre) + 1, int(math.sqrt(n_genre)) + 1)\n",
    "        self.normal = nn.Sequential(\n",
    "            nn.Linear(190, 128),\n",
    "            nn.LeakyReLU(),)\n",
    "        self.pe = PositionalEncoding(embedding_dim)\n",
    "        self.encoder_layer = nn.TransformerEncoderLayer(d_model=embedding_dim, nhead=num_heads)\n",
    "\n",
    "        self.linear = nn.Sequential(\n",
    "            nn.Linear(16512, 1024),\n",
    "            nn.LeakyReLU(),\n",
    "            nn.Linear(1024, 512),\n",
    "            nn.LeakyReLU(),\n",
    "            nn.Linear(512, 1),\n",
    "        )\n",
    "\n",
    "    # def encode_input(self,inputs):\n",
    "    #     normal_features = inputs[:, :192]\n",
    "    #     transform_features = inputs[:, 192:704]\n",
    "    #     start_year = start_year.long()\n",
    "    #     a = self.embedding_titleType(title_type) , we need longTensor\n",
    "    #     b = self.embedding_startYear(start_year)\n",
    "    #     c = self.embedding_isAdult(is_adult)\n",
    "        \n",
    "    #     title_feature = self.embedding_title(title)\n",
    "    #     overview_feature = self.embedding_overview(overview)\n",
    "    #     f = self.embedding_director(director_ids)\n",
    "    #     g = self.embedding_genre(genre_ids)        \n",
    "\n",
    "    #     normal_features = torch.cat((a, b, c, f, g, num_votes, runtime_minutes), 1)\n",
    "\n",
    "    #     transformer_features = torch.cat((title_feature, overview_feature), 1)\n",
    "        \n",
    "        \n",
    "    #     return transformer_features, normal_features, labels.float()\n",
    "        \n",
    "    def forward(self, x): #190 \n",
    "        normal_features = x[:, 1:191] #batch_size, feature [label=averageRating, isAdult, startYear, runtimeMinutes, numVotes, titleType, director_ids, genre_ids, title, overview]\n",
    "        transform_features = x[:, 191:704] #191:704 => overview. \n",
    "        #print(normal_features.shape)\n",
    "        normal_features = self.normal(normal_features)\n",
    "        transformer_features = self.pe(transform_features)\n",
    "        transformer_output = self.encoder_layer(transformer_features)\n",
    "        transformer_output = torch.flatten(transformer_output,start_dim=1)\n",
    "        features = torch.cat((transformer_output, normal_features),dim=1)\n",
    "        output = self.linear(features)\n",
    "        return output"
   ]
  },
  {
   "cell_type": "code",
   "execution_count": 24,
   "id": "0c573abb-d3b5-4b7f-b5e0-0c94214e3bc1",
   "metadata": {},
   "outputs": [
    {
     "data": {
      "text/html": [
       "<div>\n",
       "<style scoped>\n",
       "    .dataframe tbody tr th:only-of-type {\n",
       "        vertical-align: middle;\n",
       "    }\n",
       "\n",
       "    .dataframe tbody tr th {\n",
       "        vertical-align: top;\n",
       "    }\n",
       "\n",
       "    .dataframe thead th {\n",
       "        text-align: right;\n",
       "    }\n",
       "</style>\n",
       "<table border=\"1\" class=\"dataframe\">\n",
       "  <thead>\n",
       "    <tr style=\"text-align: right;\">\n",
       "      <th></th>\n",
       "      <th>Unnamed: 0</th>\n",
       "      <th>Unnamed: 0.1</th>\n",
       "      <th>tconst</th>\n",
       "      <th>titleType</th>\n",
       "      <th>isAdult</th>\n",
       "      <th>startYear</th>\n",
       "      <th>runtimeMinutes</th>\n",
       "      <th>title</th>\n",
       "      <th>averageRating</th>\n",
       "      <th>numVotes</th>\n",
       "      <th>overview</th>\n",
       "      <th>director_ids</th>\n",
       "      <th>genre_ids</th>\n",
       "    </tr>\n",
       "  </thead>\n",
       "  <tbody>\n",
       "    <tr>\n",
       "      <th>0</th>\n",
       "      <td>0</td>\n",
       "      <td>0</td>\n",
       "      <td>0</td>\n",
       "      <td>1</td>\n",
       "      <td>0</td>\n",
       "      <td>1894.0</td>\n",
       "      <td>1.0</td>\n",
       "      <td>[101, 11425, 26243, 2050, 102]</td>\n",
       "      <td>5.7</td>\n",
       "      <td>2052.0</td>\n",
       "      <td>[101, 1996, 2034, 2450, 2000, 3711, 1999, 2392...</td>\n",
       "      <td>[13780]</td>\n",
       "      <td>[17, 11]</td>\n",
       "    </tr>\n",
       "    <tr>\n",
       "      <th>1</th>\n",
       "      <td>1</td>\n",
       "      <td>3</td>\n",
       "      <td>0</td>\n",
       "      <td>1</td>\n",
       "      <td>0</td>\n",
       "      <td>1894.0</td>\n",
       "      <td>1.0</td>\n",
       "      <td>[101, 11425, 26243, 2050, 1011, 8487, 7677, 21...</td>\n",
       "      <td>5.7</td>\n",
       "      <td>2052.0</td>\n",
       "      <td>[101, 1996, 2034, 2450, 2000, 3711, 1999, 2392...</td>\n",
       "      <td>[13780]</td>\n",
       "      <td>[17, 11]</td>\n",
       "    </tr>\n",
       "    <tr>\n",
       "      <th>2</th>\n",
       "      <td>2</td>\n",
       "      <td>4</td>\n",
       "      <td>0</td>\n",
       "      <td>1</td>\n",
       "      <td>0</td>\n",
       "      <td>1894.0</td>\n",
       "      <td>1.0</td>\n",
       "      <td>[101, 1164, 14608, 29732, 29728, 29723, 16177,...</td>\n",
       "      <td>5.7</td>\n",
       "      <td>2052.0</td>\n",
       "      <td>[101, 1996, 2034, 2450, 2000, 3711, 1999, 2392...</td>\n",
       "      <td>[13780]</td>\n",
       "      <td>[17, 11]</td>\n",
       "    </tr>\n",
       "    <tr>\n",
       "      <th>3</th>\n",
       "      <td>3</td>\n",
       "      <td>5</td>\n",
       "      <td>0</td>\n",
       "      <td>1</td>\n",
       "      <td>0</td>\n",
       "      <td>1894.0</td>\n",
       "      <td>1.0</td>\n",
       "      <td>[101, 1189, 10260, 16856, 29745, 15290, 18947,...</td>\n",
       "      <td>5.7</td>\n",
       "      <td>2052.0</td>\n",
       "      <td>[101, 1996, 2034, 2450, 2000, 3711, 1999, 2392...</td>\n",
       "      <td>[13780]</td>\n",
       "      <td>[17, 11]</td>\n",
       "    </tr>\n",
       "    <tr>\n",
       "      <th>4</th>\n",
       "      <td>4</td>\n",
       "      <td>6</td>\n",
       "      <td>0</td>\n",
       "      <td>1</td>\n",
       "      <td>0</td>\n",
       "      <td>1894.0</td>\n",
       "      <td>1.0</td>\n",
       "      <td>[101, 1189, 10260, 16856, 29745, 15290, 18947,...</td>\n",
       "      <td>5.7</td>\n",
       "      <td>2052.0</td>\n",
       "      <td>[101, 1996, 2034, 2450, 2000, 3711, 1999, 2392...</td>\n",
       "      <td>[13780]</td>\n",
       "      <td>[17, 11]</td>\n",
       "    </tr>\n",
       "  </tbody>\n",
       "</table>\n",
       "</div>"
      ],
      "text/plain": [
       "   Unnamed: 0  Unnamed: 0.1  tconst  titleType  isAdult  startYear  \\\n",
       "0           0             0       0          1        0     1894.0   \n",
       "1           1             3       0          1        0     1894.0   \n",
       "2           2             4       0          1        0     1894.0   \n",
       "3           3             5       0          1        0     1894.0   \n",
       "4           4             6       0          1        0     1894.0   \n",
       "\n",
       "   runtimeMinutes                                              title  \\\n",
       "0             1.0                     [101, 11425, 26243, 2050, 102]   \n",
       "1             1.0  [101, 11425, 26243, 2050, 1011, 8487, 7677, 21...   \n",
       "2             1.0  [101, 1164, 14608, 29732, 29728, 29723, 16177,...   \n",
       "3             1.0  [101, 1189, 10260, 16856, 29745, 15290, 18947,...   \n",
       "4             1.0  [101, 1189, 10260, 16856, 29745, 15290, 18947,...   \n",
       "\n",
       "   averageRating  numVotes                                           overview  \\\n",
       "0            5.7    2052.0  [101, 1996, 2034, 2450, 2000, 3711, 1999, 2392...   \n",
       "1            5.7    2052.0  [101, 1996, 2034, 2450, 2000, 3711, 1999, 2392...   \n",
       "2            5.7    2052.0  [101, 1996, 2034, 2450, 2000, 3711, 1999, 2392...   \n",
       "3            5.7    2052.0  [101, 1996, 2034, 2450, 2000, 3711, 1999, 2392...   \n",
       "4            5.7    2052.0  [101, 1996, 2034, 2450, 2000, 3711, 1999, 2392...   \n",
       "\n",
       "  director_ids genre_ids  \n",
       "0      [13780]  [17, 11]  \n",
       "1      [13780]  [17, 11]  \n",
       "2      [13780]  [17, 11]  \n",
       "3      [13780]  [17, 11]  \n",
       "4      [13780]  [17, 11]  "
      ]
     },
     "execution_count": 24,
     "metadata": {},
     "output_type": "execute_result"
    }
   ],
   "source": [
    "processed_data.head(5)"
   ]
  },
  {
   "cell_type": "code",
   "execution_count": 8,
   "id": "96982198-0d95-4beb-8557-826a98caf05a",
   "metadata": {},
   "outputs": [
    {
     "name": "stderr",
     "output_type": "stream",
     "text": [
      "100%|██████████| 593791/593791 [00:42<00:00, 14017.62it/s]\n"
     ]
    },
    {
     "name": "stdout",
     "output_type": "stream",
     "text": [
      "Dataset shape: torch.Size([593791, 6])\n"
     ]
    }
   ],
   "source": [
    "# merge the data into a big tensor for convenience\n",
    "import torch\n",
    "import torch.utils.data as data\n",
    "from torchvision import transforms\n",
    "import ast\n",
    "from torch.nn.utils.rnn import pad_sequence\n",
    "from tqdm import tqdm\n",
    "def transfer_to_tensor(input):\n",
    "        a = torch.tensor(eval(input)) \n",
    "        a = pad_sequence(a, maxlen=256)\n",
    "        a = a.T\n",
    "        return a\n",
    "    \n",
    "dataset = torch.empty((0))\n",
    "data_list = []\n",
    "for _, row in tqdm(processed_data.iterrows(), total=processed_data.shape[0]):\n",
    "    labels = row['averageRating']\n",
    "    is_adult = row['isAdult']\n",
    "    start_year = row['startYear']\n",
    "    runtime_minutes = row['runtimeMinutes']\n",
    "    num_votes = row['numVotes']\n",
    "    title_type = row['titleType']\n",
    "\n",
    "    # Collect all features for this row into a tensor\n",
    "    row_tensor = torch.tensor([labels, is_adult, start_year, runtime_minutes, num_votes, title_type], dtype=torch.float32)\n",
    "    data_list.append(row_tensor)\n",
    "\n",
    "# Stack all row tensors to create a single dataset tensor\n",
    "dataset = torch.stack(data_list)\n",
    "\n",
    "print(\"Dataset shape:\", dataset.shape)"
   ]
  },
  {
   "cell_type": "code",
   "execution_count": 9,
   "id": "a82941cc-3fdc-499d-a063-2e518ff92f8c",
   "metadata": {},
   "outputs": [
    {
     "name": "stdout",
     "output_type": "stream",
     "text": [
      "torch.Size([593791, 512])\n",
      "torch.Size([593791, 59])\n",
      "torch.Size([593791, 3])\n",
      "torch.Size([593791, 124])\n"
     ]
    }
   ],
   "source": [
    "def transfer_to_tensor(input):\n",
    "    a = [torch.tensor(eval(item)) for item in input]\n",
    "    a = pad_sequence(a)\n",
    "    a = a.T\n",
    "    return a\n",
    "\n",
    "overviews = transfer_to_tensor(processed_data['overview'])\n",
    "print(overviews.shape)\n",
    "director_ids = transfer_to_tensor(processed_data['director_ids'])\n",
    "print(director_ids.shape)\n",
    "genre_ids = transfer_to_tensor(processed_data['genre_ids'])\n",
    "print(genre_ids.shape)\n",
    "title = transfer_to_tensor(processed_data['title'])\n",
    "print(title.shape)"
   ]
  },
  {
   "cell_type": "code",
   "execution_count": 10,
   "id": "75f2dbda-d66e-42c1-8869-29b9e6dba60e",
   "metadata": {},
   "outputs": [],
   "source": [
    "A = torch.cat((dataset,director_ids, genre_ids, title, overviews), dim = 1)\n"
   ]
  },
  {
   "cell_type": "code",
   "execution_count": null,
   "id": "f5cd5dc1-1a8c-4b5f-9f56-e7077308f6e3",
   "metadata": {},
   "outputs": [],
   "source": [
    "A.shape #68 - 704"
   ]
  },
  {
   "cell_type": "code",
   "execution_count": null,
   "id": "dfc99ae5-d8d3-4708-b6d3-1a25161a42d2",
   "metadata": {},
   "outputs": [],
   "source": [
    "593791 * 0.7"
   ]
  },
  {
   "cell_type": "code",
   "execution_count": 34,
   "id": "38969d96-be49-41ca-9f42-dcf72b5717ff",
   "metadata": {},
   "outputs": [
    {
     "name": "stderr",
     "output_type": "stream",
     "text": [
      "100%|██████████| 1302/1302 [00:10<00:00, 128.39it/s]\n"
     ]
    },
    {
     "name": "stdout",
     "output_type": "stream",
     "text": [
      "Epoch 1, Loss: 4.241941928863525\n"
     ]
    },
    {
     "name": "stderr",
     "output_type": "stream",
     "text": [
      "100%|██████████| 1302/1302 [00:09<00:00, 132.04it/s]\n"
     ]
    },
    {
     "name": "stdout",
     "output_type": "stream",
     "text": [
      "Epoch 2, Loss: 3.8559300899505615\n"
     ]
    },
    {
     "name": "stderr",
     "output_type": "stream",
     "text": [
      "100%|██████████| 1302/1302 [00:09<00:00, 130.89it/s]\n"
     ]
    },
    {
     "name": "stdout",
     "output_type": "stream",
     "text": [
      "Epoch 3, Loss: 3.6916897296905518\n"
     ]
    },
    {
     "name": "stderr",
     "output_type": "stream",
     "text": [
      "100%|██████████| 1302/1302 [00:09<00:00, 133.94it/s]\n"
     ]
    },
    {
     "name": "stdout",
     "output_type": "stream",
     "text": [
      "Epoch 4, Loss: 2.94146728515625\n"
     ]
    },
    {
     "name": "stderr",
     "output_type": "stream",
     "text": [
      "100%|██████████| 1302/1302 [00:09<00:00, 131.44it/s]\n"
     ]
    },
    {
     "name": "stdout",
     "output_type": "stream",
     "text": [
      "Epoch 5, Loss: 3.7959563732147217\n"
     ]
    },
    {
     "data": {
      "image/png": "[encoded data removed]",
      "text/plain": [
       "<Figure size 432x288 with 1 Axes>"
      ]
     },
     "metadata": {
      "needs_background": "light"
     },
     "output_type": "display_data"
    }
   ],
   "source": [
    "import torch.optim as optim\n",
    "import torch.utils.data as data\n",
    "import torch.nn as nn\n",
    "import matplotlib.pyplot as plt\n",
    "model = BehaviorSequenceTransformer(embedding_dim=512, num_heads=8, vocab_size= 30522 )\n",
    "model = model.to(0)\n",
    "def RMSELoss(yhat,y):\n",
    "    return torch.sqrt(torch.mean((yhat-y)**2))\n",
    "\n",
    "criterion = RMSELoss\n",
    "#criterion = nn.RMSELoss()\n",
    "train = A[: 41653, :]\n",
    "test = A[41653:,:] \n",
    "train = train.to(0)\n",
    "test = test.to(0)\n",
    "#A = A.to(0)\n",
    "optimizer = optim.Adam(model.parameters(), lr=0.001)\n",
    "epochs = 5\n",
    "batch_size = 32\n",
    "losses = []\n",
    "def pad_batch(batch, size, pad_value=0):\n",
    "    # Padding the batch to the desired size with pad_value\n",
    "    if len(batch) < size:\n",
    "        pad_size = size - len(batch)\n",
    "        padded_part = torch.zeros((pad_size,) + batch.shape[1:], dtype=batch.dtype, device=batch.device).fill_(pad_value)\n",
    "        batch = torch.cat([batch, padded_part], dim=0)\n",
    "    return batch\n",
    "for epoch in range(epochs):\n",
    "    for i in tqdm(range(0, train.shape[0], batch_size)):\n",
    "        batch = train[i:i+batch_size]\n",
    "        if batch.size(0) < batch_size:\n",
    "            batch = pad_batch(batch, batch_size)\n",
    "        optimizer.zero_grad()\n",
    "        output = model(batch[:, 1:])\n",
    "        loss = criterion(output, batch[:, 0])\n",
    "        loss.backward()\n",
    "        optimizer.step()\n",
    "        losses.append(loss.item())\n",
    "    print(f'Epoch {epoch+1}, Loss: {losses[-1]}')\n",
    "plt.plot(losses[:])\n",
    "plt.xlabel('Batch')\n",
    "plt.ylabel('Loss')\n",
    "plt.show()\n",
    "\n"
   ]
  },
  {
   "cell_type": "code",
   "execution_count": 37,
   "id": "ce332212-9bd7-4d28-b156-399138b7b98e",
   "metadata": {},
   "outputs": [
    {
     "data": {
      "image/png": "[encoded data removed]",
      "text/plain": [
       "<Figure size 432x288 with 1 Axes>"
      ]
     },
     "metadata": {
      "needs_background": "light"
     },
     "output_type": "display_data"
    }
   ],
   "source": [
    "plt.plot(losses[1:500])\n",
    "plt.xlabel('Batch')\n",
    "plt.ylabel('Loss')\n",
    "plt.show()"
   ]
  },
  {
   "cell_type": "code",
   "execution_count": null,
   "id": "ab453bca-aef3-49bc-a12c-280bdcbd5088",
   "metadata": {},
   "outputs": [],
   "source": []
  }
 ],
 "metadata": {
  "kernelspec": {
   "display_name": "Python 3 (ipykernel)",
   "language": "python",
   "name": "python3"
  },
  "language_info": {
   "codemirror_mode": {
    "name": "ipython",
    "version": 3
   },
   "file_extension": ".py",
   "mimetype": "text/x-python",
   "name": "python",
   "nbconvert_exporter": "python",
   "pygments_lexer": "ipython3",
   "version": "3.10.12"
  }
 },
 "nbformat": 4,
 "nbformat_minor": 5
}
